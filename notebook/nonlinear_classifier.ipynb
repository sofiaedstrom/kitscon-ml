{
 "cells": [
  {
   "cell_type": "markdown",
   "metadata": {},
   "source": [
    "# Klassificering av ickelinjär 2D-data mha TensorFlow och Keras\n",
    "\n",
    "## Dataset\n",
    "* genererat hittepå-dataset med lite brus\n",
    "* 2 features - x och y\n",
    "* 2 klasser (labels) - 0 och 1\n",
    "\n",
    "## Modell\n",
    "#### Modellen som ska byggas är ett neuralt nätverk med tre lager: två input-neuroner, tre \"hidden\" neuroner, en output-neuron.\n",
    "\n",
    "\n",
    "<img src=\"ann.png\" style=\"width: 500px;\"/>\n",
    "\n",
    "## Verktyg - samtliga är open source\n",
    "* [scikit-learn](http://scikit-learn.org/stable/): verktygslåda för data-analys och maskininlärning \n",
    "* [TensorFlow](https://www.tensorflow.org): bibliotek för effektiva beräkningar, innehåller verktyg för att underlätta maskininlärning, finns även implementationer i js och lite-variant till android och ios\n",
    "* [Keras](https://keras.io/): användarvänligt sätt att bygga neruala nätverk i python, måste användas ihop med backend för själva beräkningarna (tex TensorFlow)\n",
    "* [matplotlib](https://matplotlib.org/): plotting-bibliotek\n",
    "* [pandas](https://pandas.pydata.org/): diverse datastrukturer och operationer på dessa som är användbara vid data-analys\n",
    "* [numpy](http://www.numpy.org/): mest för matriser och matrisoperationer, vilket behövs bla. för att få data i rätt format för modellen"
   ]
  },
  {
   "cell_type": "code",
   "execution_count": 2,
   "metadata": {},
   "outputs": [],
   "source": [
    "import sklearn as sklearn\n",
    "from sklearn import preprocessing, model_selection\n",
    "import tensorflow as tf\n",
    "import matplotlib.pyplot as plt\n",
    "from mpl_toolkits.mplot3d import Axes3D\n",
    "import pandas as pd\n",
    "import numpy as np\n",
    "import math as math"
   ]
  },
  {
   "cell_type": "markdown",
   "metadata": {},
   "source": [
    "## Läs in datasetet som pandas dataframes"
   ]
  },
  {
   "cell_type": "code",
   "execution_count": 3,
   "metadata": {},
   "outputs": [
    {
     "data": {
      "text/html": [
       "<div>\n",
       "<style scoped>\n",
       "    .dataframe tbody tr th:only-of-type {\n",
       "        vertical-align: middle;\n",
       "    }\n",
       "\n",
       "    .dataframe tbody tr th {\n",
       "        vertical-align: top;\n",
       "    }\n",
       "\n",
       "    .dataframe thead th {\n",
       "        text-align: right;\n",
       "    }\n",
       "</style>\n",
       "<table border=\"1\" class=\"dataframe\">\n",
       "  <thead>\n",
       "    <tr style=\"text-align: right;\">\n",
       "      <th></th>\n",
       "      <th>x</th>\n",
       "      <th>y</th>\n",
       "      <th>label</th>\n",
       "    </tr>\n",
       "  </thead>\n",
       "  <tbody>\n",
       "    <tr>\n",
       "      <th>0</th>\n",
       "      <td>0.062005</td>\n",
       "      <td>-0.062031</td>\n",
       "      <td>1</td>\n",
       "    </tr>\n",
       "    <tr>\n",
       "      <th>1</th>\n",
       "      <td>0.114877</td>\n",
       "      <td>-0.387232</td>\n",
       "      <td>1</td>\n",
       "    </tr>\n",
       "    <tr>\n",
       "      <th>2</th>\n",
       "      <td>0.469452</td>\n",
       "      <td>1.146217</td>\n",
       "      <td>0</td>\n",
       "    </tr>\n",
       "    <tr>\n",
       "      <th>3</th>\n",
       "      <td>0.677714</td>\n",
       "      <td>-0.724361</td>\n",
       "      <td>0</td>\n",
       "    </tr>\n",
       "    <tr>\n",
       "      <th>4</th>\n",
       "      <td>0.959312</td>\n",
       "      <td>0.438573</td>\n",
       "      <td>0</td>\n",
       "    </tr>\n",
       "  </tbody>\n",
       "</table>\n",
       "</div>"
      ],
      "text/plain": [
       "          x         y  label\n",
       "0  0.062005 -0.062031      1\n",
       "1  0.114877 -0.387232      1\n",
       "2  0.469452  1.146217      0\n",
       "3  0.677714 -0.724361      0\n",
       "4  0.959312  0.438573      0"
      ]
     },
     "execution_count": 3,
     "metadata": {},
     "output_type": "execute_result"
    }
   ],
   "source": [
    "with open('datasets/nonlinear_circle_data_with_noise.csv') as f:\n",
    "    dataframe = pd.read_csv(f)\n",
    "    \n",
    "class_zero = dataframe[dataframe['label'] == 0]\n",
    "class_one = dataframe[dataframe['label'] == 1]\n",
    "dataframe.head()"
   ]
  },
  {
   "cell_type": "markdown",
   "metadata": {},
   "source": [
    "## Plotta datasetet"
   ]
  },
  {
   "cell_type": "code",
   "execution_count": 4,
   "metadata": {},
   "outputs": [
    {
     "data": {
      "text/plain": [
       "<matplotlib.axes._subplots.AxesSubplot at 0x7f61b9f3f4a8>"
      ]
     },
     "execution_count": 4,
     "metadata": {},
     "output_type": "execute_result"
    },
    {
     "data": {
      "text/plain": [
       "<Figure size 1080x720 with 0 Axes>"
      ]
     },
     "metadata": {},
     "output_type": "display_data"
    },
    {
     "data": {
      "image/png": "[encoded data removed]",
      "text/plain": [
       "<Figure size 432x288 with 1 Axes>"
      ]
     },
     "metadata": {},
     "output_type": "display_data"
    }
   ],
   "source": [
    "fig = plt.figure(figsize=(15,10))\n",
    "ax = class_zero.plot.scatter('x','y', s=7, c='fuchsia')\n",
    "class_one.plot.scatter('x','y', s=7, c='black', ax=ax)"
   ]
  },
  {
   "cell_type": "markdown",
   "metadata": {
    "scrolled": true
   },
   "source": [
    "## Lite processering av datasetet\n",
    "### Skala om datan till intervallet [-1, 1]"
   ]
  },
  {
   "cell_type": "code",
   "execution_count": 5,
   "metadata": {},
   "outputs": [],
   "source": [
    "scaler = preprocessing.MinMaxScaler(feature_range=(-1,1))\n",
    "scaled_df = dataframe.copy()\n",
    "scaled_df[['x', 'y']] = scaler.fit_transform(dataframe[['x', 'y']])"
   ]
  },
  {
   "cell_type": "markdown",
   "metadata": {},
   "source": [
    "### Splitta data i träningsset och testset"
   ]
  },
  {
   "cell_type": "code",
   "execution_count": 7,
   "metadata": {},
   "outputs": [],
   "source": [
    "train_set_df, test_set_df, train_labels_df, test_labels_df = model_selection.train_test_split(\n",
    "    scaled_df[['x','y']],\n",
    "    scaled_df['label'], \n",
    "    test_size=0.4)\n",
    "#om vi skulle vilja använda valideringsset:\n",
    "#test_set_df, val_set_df, test_labels_df, val_labels_df = model_selection.train_test_split(\n",
    "#    test_set_df[['x','y']],\n",
    "#    test_labels_df, \n",
    "#    test_size=0.3)"
   ]
  },
  {
   "cell_type": "markdown",
   "metadata": {},
   "source": [
    "### Konvertera dataframes till numpy-arrayer (matriser) och transponera (rader till kolumner)"
   ]
  },
  {
   "cell_type": "code",
   "execution_count": 8,
   "metadata": {},
   "outputs": [],
   "source": [
    "train_set = np.array(train_set_df)\n",
    "train_labels = np.array(train_labels_df)\n",
    "test_set = np.array(test_set_df)\n",
    "test_labels = np.array(test_labels_df)\n",
    "\n",
    "#om vi skulle vilja använda valideringsset:\n",
    "#val_set = np.array(val_set_df)\n",
    "#val_labels = np.array(val_labels_df)"
   ]
  },
  {
   "cell_type": "markdown",
   "metadata": {},
   "source": [
    "## Das model - det neurala nätverket\n",
    "#### 3 lager: 2 input-neuroner, 3 \"hidden\" neuroner, 1 output-neuron\n",
    "\n",
    "\n",
    "<img src=\"ann.png\" style=\"width: 500px;\"/>\n",
    "\n",
    "### Definiera modellen med Keras och TensorFlow"
   ]
  },
  {
   "cell_type": "code",
   "execution_count": 34,
   "metadata": {},
   "outputs": [],
   "source": [
    "#valet av activation bestämmer hur utsignalen från en neuron ska räknas ut\n",
    "inputs = tf.keras.Input(shape=(2,))\n",
    "x = tf.keras.layers.Dense(3, activation=tf.nn.sigmoid)(inputs)\n",
    "outputs = tf.keras.layers.Dense(1, activation=tf.nn.sigmoid)(x)"
   ]
  },
  {
   "cell_type": "code",
   "execution_count": 35,
   "metadata": {},
   "outputs": [],
   "source": [
    "#optimizer: regel för hur uppdateringen av vikter och biases ska gå till (lärandet)\n",
    "#lr (learning rate): i vilken grad vikter och biases ska uppdateras efter beräkning av fel \n",
    "#decay: (learning rate decay): hur mycket lr ska minska efter varje uppdatering, \n",
    "#       ju längre vi tränar, desto lägre blir lr, => ju mer data modellen sett, desto mindre\n",
    "#       lättvindigt uppdaterar den sig\n",
    "#loss (loss function, error function): hur felet/avståndet till rätt svar räknas ut\n",
    "model = tf.keras.Model(inputs=inputs, outputs=outputs)\n",
    "model.compile(\n",
    "    optimizer=tf.keras.optimizers.Adam(lr=0.1, decay=1e-6), \n",
    "    loss='binary_crossentropy', \n",
    "    metrics=['accuracy']\n",
    ")"
   ]
  },
  {
   "cell_type": "markdown",
   "metadata": {},
   "source": [
    "### Träna modellen"
   ]
  },
  {
   "cell_type": "code",
   "execution_count": 42,
   "metadata": {
    "scrolled": true
   },
   "outputs": [],
   "source": [
    "#epochs: en epoch är när vi matat modellen med hela testsetet en gång\n",
    "#batch_size: antalet datapunkter modellen får se innan felet räknas ut och uppdateringen sker \n",
    "history = model.fit(\n",
    "    train_set, \n",
    "    train_labels, \n",
    "    epochs=500, \n",
    "    batch_size=32,\n",
    "    verbose=0\n",
    ")"
   ]
  },
  {
   "cell_type": "markdown",
   "metadata": {},
   "source": [
    "### Vi plottar lite för att se vad som sker under träningen"
   ]
  },
  {
   "cell_type": "code",
   "execution_count": 37,
   "metadata": {},
   "outputs": [
    {
     "data": {
      "image/png": "[encoded data removed]",
      "text/plain": [
       "<Figure size 432x288 with 1 Axes>"
      ]
     },
     "metadata": {},
     "output_type": "display_data"
    }
   ],
   "source": [
    "plt.plot(history.history['acc'])\n",
    "plt.title('Model classification accuracy')\n",
    "plt.ylabel('Accuracy')\n",
    "plt.xlabel('Epoch')\n",
    "plt.show()"
   ]
  },
  {
   "cell_type": "markdown",
   "metadata": {},
   "source": [
    "### Klassificera data modellen inte tidigare sett (dvs testa den)"
   ]
  },
  {
   "cell_type": "code",
   "execution_count": 38,
   "metadata": {},
   "outputs": [],
   "source": [
    "predictions = model.predict(test_set)\n",
    "test_set_df['predicted'] = np.round(predictions).reshape(test_labels.shape)\n",
    "test_set_df['label'] = test_labels\n",
    "test_set_pred_zero = test_set_df[test_set_df['predicted'] == 0]\n",
    "test_set_pred_one = test_set_df[test_set_df['predicted'] == 1]\n",
    "test_set_zero = test_set_df[test_set_df['label'] == 0]\n",
    "test_set_one = test_set_df[test_set_df['label'] == 1]"
   ]
  },
  {
   "cell_type": "markdown",
   "metadata": {},
   "source": [
    "### Accuracy för testdatan:"
   ]
  },
  {
   "cell_type": "code",
   "execution_count": 39,
   "metadata": {},
   "outputs": [
    {
     "data": {
      "text/plain": [
       "0.95750000000000002"
      ]
     },
     "execution_count": 39,
     "metadata": {},
     "output_type": "execute_result"
    }
   ],
   "source": [
    "model.evaluate(test_set, test_labels, verbose=0)[1]"
   ]
  },
  {
   "cell_type": "markdown",
   "metadata": {},
   "source": [
    "### Räkna ut decision boundary för modellen"
   ]
  },
  {
   "cell_type": "code",
   "execution_count": 40,
   "metadata": {},
   "outputs": [],
   "source": [
    "plot_step = 0.02\n",
    "x_min = -1.1\n",
    "x_max = 1.1\n",
    "y_min = -1.1\n",
    "y_max = 1.1\n",
    "xx, yy = np.meshgrid(np.arange(x_min, x_max, plot_step), np.arange(y_min, y_max, plot_step))\n",
    "meshgrid_data = np.column_stack((xx.ravel(), yy.ravel()))\n",
    "decision_boundary = model.predict(meshgrid_data)\n",
    "decision_boundary = decision_boundary.reshape(xx.shape)"
   ]
  },
  {
   "cell_type": "markdown",
   "metadata": {},
   "source": [
    "### Plotta modellens decision boundary vs testdatans faktiska labels"
   ]
  },
  {
   "cell_type": "code",
   "execution_count": 41,
   "metadata": {},
   "outputs": [
    {
     "data": {
      "image/png": "[encoded data removed]",
      "text/plain": [
       "<Figure size 432x288 with 1 Axes>"
      ]
     },
     "metadata": {},
     "output_type": "display_data"
    }
   ],
   "source": [
    "fig2, ax1 = plt.subplots(1,1)\n",
    "ax1.contourf(xx, yy, decision_boundary, levels=[0,0.5,1], cmap=plt.cm.Blues)\n",
    "ax1.scatter(test_set_zero['x'], test_set_zero['y'], s=8, c='black')\n",
    "ax1.scatter(test_set_one['x'], test_set_one['y'], s=8, c='crimson')\n",
    "ax1.set_title('Decision boundary and actual labels')\n",
    "ax1.set_xbound(-1,1)\n",
    "ax1.set_ybound(-1,1)"
   ]
  },
  {
   "cell_type": "code",
   "execution_count": null,
   "metadata": {},
   "outputs": [],
   "source": []
  },
  {
   "cell_type": "code",
   "execution_count": null,
   "metadata": {},
   "outputs": [],
   "source": []
  }
 ],
 "metadata": {
  "kernelspec": {
   "display_name": "Python 3",
   "language": "python",
   "name": "python3"
  },
  "language_info": {
   "codemirror_mode": {
    "name": "ipython",
    "version": 3
   },
   "file_extension": ".py",
   "mimetype": "text/x-python",
   "name": "python",
   "nbconvert_exporter": "python",
   "pygments_lexer": "ipython3",
   "version": "3.6.3"
  }
 },
 "nbformat": 4,
 "nbformat_minor": 2
}
